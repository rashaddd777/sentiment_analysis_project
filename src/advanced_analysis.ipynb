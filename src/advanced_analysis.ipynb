{
 "cells": [
  {
   "cell_type": "code",
   "execution_count": 1,
   "metadata": {},
   "outputs": [],
   "source": [
    "# Cell 1: Imports\n",
    "import pandas as pd\n",
    "import numpy as np\n",
    "import nltk\n",
    "from nltk.corpus import stopwords\n",
    "from nltk.tokenize import word_tokenize\n",
    "import re\n",
    "from sklearn.model_selection import train_test_split\n",
    "from tensorflow.keras.preprocessing.text import Tokenizer\n",
    "from tensorflow.keras.preprocessing.sequence import pad_sequences\n",
    "from tensorflow.keras.models import Sequential\n",
    "from tensorflow.keras.layers import Embedding, LSTM, Dense, Dropout\n",
    "from tensorflow.keras.utils import to_categorical\n",
    "from sklearn.metrics import accuracy_score, classification_report, confusion_matrix, ConfusionMatrixDisplay\n",
    "import matplotlib.pyplot as plt\n"
   ]
  },
  {
   "cell_type": "code",
   "execution_count": 2,
   "metadata": {},
   "outputs": [
    {
     "name": "stderr",
     "output_type": "stream",
     "text": [
      "[nltk_data] Downloading package punkt to\n",
      "[nltk_data]     /Users/rashidkarimov/nltk_data...\n",
      "[nltk_data]   Package punkt is already up-to-date!\n",
      "[nltk_data] Downloading package stopwords to\n",
      "[nltk_data]     /Users/rashidkarimov/nltk_data...\n",
      "[nltk_data]   Package stopwords is already up-to-date!\n",
      "[nltk_data] Downloading package punkt_tab to ~/nltk_data...\n",
      "[nltk_data]   Package punkt_tab is already up-to-date!\n"
     ]
    }
   ],
   "source": [
    "# Cell 2: Load and Preprocess Data\n",
    "import os\n",
    "def load_data(path, label):\n",
    "    reviews = []\n",
    "    for filename in os.listdir(path):\n",
    "        with open(os.path.join(path, filename), 'r', encoding='utf-8') as f:\n",
    "            reviews.append(f.read())\n",
    "    return pd.DataFrame({'review': reviews, 'label': label})\n",
    "\n",
    "train_pos_path = '../data/raw/aclImdb/train/pos'\n",
    "train_neg_path = '../data/raw/aclImdb/train/neg'\n",
    "train_pos = load_data(train_pos_path, 'positive')\n",
    "train_neg = load_data(train_neg_path, 'negative')\n",
    "train_data = pd.concat([train_pos, train_neg], ignore_index=True)\n",
    "\n",
    "nltk.download('punkt')\n",
    "nltk.download('stopwords')\n",
    "nltk.download('punkt_tab', download_dir='~/nltk_data')\n",
    "nltk.data.path.append('~/nltk_data')\n",
    "\n",
    "stop_words = set(stopwords.words('english'))\n",
    "\n",
    "def preprocess_text(text):\n",
    "    if not isinstance(text, str):\n",
    "        return \"\"\n",
    "    try:\n",
    "        text = re.sub(r'<[^>]+>', '', text)\n",
    "        text = re.sub(r'[^\\w\\s]', '', text)\n",
    "        tokens = word_tokenize(text.lower())\n",
    "        tokens = [word for word in tokens if word not in stop_words and word]\n",
    "        return ' '.join(tokens)\n",
    "    except Exception as e:\n",
    "        print(f\"Error preprocessing text: {e}\")\n",
    "        return \"\"\n",
    "\n",
    "train_data['clean_review'] = train_data['review'].apply(preprocess_text)\n",
    "y = train_data['label'].map({'positive': 1, 'negative': 0})"
   ]
  },
  {
   "cell_type": "code",
   "execution_count": 3,
   "metadata": {},
   "outputs": [],
   "source": [
    "# Cell 3: Advanced Feature Engineering\n",
    "max_words = 10000  # Max number of words to keep\n",
    "max_len = 200      # Max length of each review (in words)\n",
    "\n",
    "tokenizer = Tokenizer(num_words=max_words)\n",
    "tokenizer.fit_on_texts(train_data['clean_review'])\n",
    "sequences = tokenizer.texts_to_sequences(train_data['clean_review'])\n",
    "X = pad_sequences(sequences, maxlen=max_len)\n",
    "\n",
    "embedding_dim = 100  # Dimension of embedding (adjust based on GloVe if used)\n",
    "\n",
    "word_index = tokenizer.word_index\n",
    "num_words = min(max_words, len(word_index)) + 1\n",
    "embedding_matrix = np.zeros((num_words, embedding_dim))"
   ]
  },
  {
   "cell_type": "code",
   "execution_count": 4,
   "metadata": {},
   "outputs": [
    {
     "name": "stderr",
     "output_type": "stream",
     "text": [
      "/Users/rashidkarimov/Desktop/sentiment_analysis_project/tf_env/lib/python3.11/site-packages/keras/src/layers/core/embedding.py:90: UserWarning: Argument `input_length` is deprecated. Just remove it.\n",
      "  warnings.warn(\n"
     ]
    },
    {
     "name": "stdout",
     "output_type": "stream",
     "text": [
      "Epoch 1/5\n",
      "\u001b[1m313/313\u001b[0m \u001b[32m━━━━━━━━━━━━━━━━━━━━\u001b[0m\u001b[37m\u001b[0m \u001b[1m83s\u001b[0m 259ms/step - accuracy: 0.7341 - loss: 0.5041 - val_accuracy: 0.8736 - val_loss: 0.3046\n",
      "Epoch 2/5\n",
      "\u001b[1m313/313\u001b[0m \u001b[32m━━━━━━━━━━━━━━━━━━━━\u001b[0m\u001b[37m\u001b[0m \u001b[1m91s\u001b[0m 291ms/step - accuracy: 0.9225 - loss: 0.2093 - val_accuracy: 0.8786 - val_loss: 0.2950\n",
      "Epoch 3/5\n",
      "\u001b[1m313/313\u001b[0m \u001b[32m━━━━━━━━━━━━━━━━━━━━\u001b[0m\u001b[37m\u001b[0m \u001b[1m91s\u001b[0m 290ms/step - accuracy: 0.9591 - loss: 0.1209 - val_accuracy: 0.8720 - val_loss: 0.3298\n",
      "Epoch 4/5\n",
      "\u001b[1m313/313\u001b[0m \u001b[32m━━━━━━━━━━━━━━━━━━━━\u001b[0m\u001b[37m\u001b[0m \u001b[1m85s\u001b[0m 273ms/step - accuracy: 0.9744 - loss: 0.0779 - val_accuracy: 0.8600 - val_loss: 0.4936\n",
      "Epoch 5/5\n",
      "\u001b[1m313/313\u001b[0m \u001b[32m━━━━━━━━━━━━━━━━━━━━\u001b[0m\u001b[37m\u001b[0m \u001b[1m85s\u001b[0m 271ms/step - accuracy: 0.9821 - loss: 0.0540 - val_accuracy: 0.8620 - val_loss: 0.4765\n"
     ]
    }
   ],
   "source": [
    "# Cell 4: Build and Train LSTM Model\n",
    "X_train, X_val, y_train, y_val = train_test_split(X, y, test_size=0.2, random_state=42)\n",
    "y_train_cat = to_categorical(y_train)\n",
    "y_val_cat = to_categorical(y_val)\n",
    "\n",
    "model = Sequential([\n",
    "    Embedding(num_words, embedding_dim, input_length=max_len),\n",
    "    LSTM(128, return_sequences=True),\n",
    "    Dropout(0.2),\n",
    "    LSTM(64),\n",
    "    Dropout(0.2),\n",
    "    Dense(32, activation='relu'),\n",
    "    Dense(2, activation='softmax')  # 2 classes: positive/negative\n",
    "])\n",
    "\n",
    "model.compile(optimizer='adam', loss='categorical_crossentropy', metrics=['accuracy'])\n",
    "history = model.fit(X_train, y_train_cat, validation_data=(X_val, y_val_cat), \n",
    "                   epochs=5, batch_size=64, verbose=1)"
   ]
  },
  {
   "cell_type": "code",
   "execution_count": 5,
   "metadata": {},
   "outputs": [
    {
     "name": "stdout",
     "output_type": "stream",
     "text": [
      "\u001b[1m157/157\u001b[0m \u001b[32m━━━━━━━━━━━━━━━━━━━━\u001b[0m\u001b[37m\u001b[0m \u001b[1m9s\u001b[0m 54ms/step\n",
      "LSTM Validation Accuracy: 0.862\n",
      "\n",
      "LSTM Classification Report:\n",
      "              precision    recall  f1-score   support\n",
      "\n",
      "    negative       0.87      0.85      0.86      2485\n",
      "    positive       0.85      0.88      0.86      2515\n",
      "\n",
      "    accuracy                           0.86      5000\n",
      "   macro avg       0.86      0.86      0.86      5000\n",
      "weighted avg       0.86      0.86      0.86      5000\n",
      "\n"
     ]
    },
    {
     "data": {
      "image/png": "[encoded data removed]",
      "text/plain": [
       "<Figure size 640x480 with 2 Axes>"
      ]
     },
     "metadata": {},
     "output_type": "display_data"
    }
   ],
   "source": [
    "# Cell 5: Evaluate and Analyze LSTM Performance\n",
    "y_pred_lstm = model.predict(X_val)\n",
    "y_pred_classes = np.argmax(y_pred_lstm, axis=1)\n",
    "\n",
    "lstm_accuracy = accuracy_score(y_val, y_pred_classes)\n",
    "print(\"LSTM Validation Accuracy:\", lstm_accuracy)\n",
    "print(\"\\nLSTM Classification Report:\")\n",
    "print(classification_report(y_val, y_pred_classes, target_names=['negative', 'positive']))\n",
    "\n",
    "cm_lstm = confusion_matrix(y_val, y_pred_classes)\n",
    "disp = ConfusionMatrixDisplay(confusion_matrix=cm_lstm, display_labels=['negative', 'positive'])\n",
    "disp.plot(cmap='Blues')\n",
    "plt.title('Confusion Matrix for LSTM Model')\n",
    "plt.savefig('../output/figures/confusion_matrix_lstm.png')\n",
    "plt.show()"
   ]
  },
  {
   "cell_type": "code",
   "execution_count": 6,
   "metadata": {},
   "outputs": [
    {
     "name": "stdout",
     "output_type": "stream",
     "text": [
      "\n",
      "Sample Misclassified Reviews (LSTM):\n",
      "\n",
      "Review: saw film belgrade film festival last week im still working trauma essentially view seems match number others first half hour fresh sharp deep entertaining promising well acted natural problem however ...\n",
      "True Label: negative\n",
      "Predicted Label: positive\n",
      "\n",
      "Review: modern viewers know little film primarily model remake money pit older viewers today watch wisps nostalgia cary grant myrna loy melvyn douglas superstars easier less complicated era time course way mo...\n",
      "True Label: positive\n",
      "Predicted Label: negative\n",
      "\n",
      "Review: first anyone thinks sequel william friedkins french connection superior definitely completely insane moronic problem reviewing film sequel brilliant movie always makes watching objectively difficult b...\n",
      "True Label: negative\n",
      "Predicted Label: positive\n",
      "\n",
      "Review: like many horror fans force fed banal big budget hollywood remakes mtv high school slasher tripe last 20 years last original horror genre movie ticks right boxesyou want hot lead actress want vampires...\n",
      "True Label: positive\n",
      "Predicted Label: negative\n",
      "\n",
      "Review: movie good unpretentious wouldnt watch twice however peter cushing completist thats watched best asset movie brevity effectiveness compared similar movies drag feet forever four plus one segments last...\n",
      "True Label: positive\n",
      "Predicted Label: negative\n"
     ]
    }
   ],
   "source": [
    "# Cell 6: Explore Error Patterns\n",
    "val_data = train_data.iloc[y_val.index].copy()\n",
    "val_data['predicted_lstm'] = y_pred_classes\n",
    "\n",
    "misclassified_lstm = val_data[val_data['label'].map({'positive': 1, 'negative': 0}) != y_pred_classes]\n",
    "\n",
    "print(\"\\nSample Misclassified Reviews (LSTM):\")\n",
    "for _, row in misclassified_lstm.head(5).iterrows():\n",
    "    print(f\"\\nReview: {row['clean_review'][:200]}...\")\n",
    "    print(f\"True Label: {row['label']}\")\n",
    "    print(f\"Predicted Label: {'positive' if row['predicted_lstm'] == 1 else 'negative'}\")"
   ]
  }
 ],
 "metadata": {
  "kernelspec": {
   "display_name": "tf_env",
   "language": "python",
   "name": "python3"
  },
  "language_info": {
   "codemirror_mode": {
    "name": "ipython",
    "version": 3
   },
   "file_extension": ".py",
   "mimetype": "text/x-python",
   "name": "python",
   "nbconvert_exporter": "python",
   "pygments_lexer": "ipython3",
   "version": "3.11.11"
  }
 },
 "nbformat": 4,
 "nbformat_minor": 2
}
