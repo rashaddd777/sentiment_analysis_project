{
 "cells": [
  {
   "cell_type": "code",
   "execution_count": null,
   "metadata": {},
   "outputs": [],
   "source": [
    "# Cell 1: Imports\n",
    "import os\n",
    "import pandas as pd"
   ]
  },
  {
   "cell_type": "code",
   "execution_count": null,
   "metadata": {},
   "outputs": [],
   "source": [
    "# Cell 2: Data Loading Function\n",
    "def load_data(path, label):\n",
    "    reviews = []\n",
    "    for filename in os.listdir(path):\n",
    "        with open(os.path.join(path, filename), 'r', encoding='utf-8') as f:\n",
    "            reviews.append(f.read())\n",
    "    return pd.DataFrame({'review': reviews, 'label': label})"
   ]
  },
  {
   "cell_type": "code",
   "execution_count": null,
   "metadata": {},
   "outputs": [],
   "source": [
    "# Cell 3: Load Training Data\n",
    "train_pos_path = '../data/raw/aclImdb/train/pos'\n",
    "train_neg_path = '../data/raw/aclImdb/train/neg'\n",
    "train_pos = load_data(train_pos_path, 'positive')\n",
    "train_neg = load_data(train_neg_path, 'negative')"
   ]
  },
  {
   "cell_type": "code",
   "execution_count": 5,
   "metadata": {},
   "outputs": [],
   "source": [
    "# Cell 4: Combine Data\n",
    "train_data = pd.concat([train_pos, train_neg], ignore_index=True)"
   ]
  },
  {
   "cell_type": "code",
   "execution_count": 6,
   "metadata": {},
   "outputs": [],
   "source": [
    "# Cell 5: Optional Save\n",
    "train_data.to_csv('../data/processed/train_data.csv', index=False)"
   ]
  },
  {
   "cell_type": "code",
   "execution_count": 7,
   "metadata": {},
   "outputs": [
    {
     "name": "stdout",
     "output_type": "stream",
     "text": [
      "Dataset shape: (25000, 2)\n",
      "First few rows:\n",
      "                                               review     label\n",
      "0  For a movie that gets no respect there sure ar...  positive\n",
      "1  Bizarre horror movie filled with famous faces ...  positive\n",
      "2  A solid, if unremarkable film. Matthau, as Ein...  positive\n",
      "3  It's a strange feeling to sit alone in a theat...  positive\n",
      "4  You probably all already know this by now, but...  positive\n",
      "Label distribution:\n",
      " label\n",
      "positive    12500\n",
      "negative    12500\n",
      "Name: count, dtype: int64\n"
     ]
    }
   ],
   "source": [
    "# Cell 6: Display Info\n",
    "print(\"Dataset shape:\", train_data.shape)\n",
    "print(\"First few rows:\\n\", train_data.head())\n",
    "print(\"Label distribution:\\n\", train_data['label'].value_counts())"
   ]
  }
 ],
 "metadata": {
  "kernelspec": {
   "display_name": "Python 3",
   "language": "python",
   "name": "python3"
  },
  "language_info": {
   "codemirror_mode": {
    "name": "ipython",
    "version": 3
   },
   "file_extension": ".py",
   "mimetype": "text/x-python",
   "name": "python",
   "nbconvert_exporter": "python",
   "pygments_lexer": "ipython3",
   "version": "3.13.0"
  }
 },
 "nbformat": 4,
 "nbformat_minor": 2
}
