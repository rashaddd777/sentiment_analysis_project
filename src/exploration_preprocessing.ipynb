{
 "cells": [
  {
   "cell_type": "code",
   "execution_count": 23,
   "metadata": {},
   "outputs": [
    {
     "name": "stderr",
     "output_type": "stream",
     "text": [
      "[nltk_data] Downloading package punkt to ~/nltk_data...\n",
      "[nltk_data]   Package punkt is already up-to-date!\n",
      "[nltk_data] Downloading package stopwords to ~/nltk_data...\n",
      "[nltk_data]   Package stopwords is already up-to-date!\n",
      "[nltk_data] Downloading package punkt_tab to ~/nltk_data...\n"
     ]
    },
    {
     "name": "stdout",
     "output_type": "stream",
     "text": [
      "NLTK Data Path: ['/Users/rashidkarimov/nltk_data', '/Library/Frameworks/Python.framework/Versions/3.13/nltk_data', '/Library/Frameworks/Python.framework/Versions/3.13/share/nltk_data', '/Library/Frameworks/Python.framework/Versions/3.13/lib/nltk_data', '/usr/share/nltk_data', '/usr/local/share/nltk_data', '/usr/lib/nltk_data', '/usr/local/lib/nltk_data', '~/nltk_data', '~/nltk_data']\n"
     ]
    },
    {
     "name": "stderr",
     "output_type": "stream",
     "text": [
      "[nltk_data]   Unzipping tokenizers/punkt_tab.zip.\n"
     ]
    }
   ],
   "source": [
    "# Cell 1: Imports\n",
    "import os\n",
    "import pandas as pd\n",
    "import nltk\n",
    "from nltk.corpus import stopwords\n",
    "from nltk.tokenize import word_tokenize\n",
    "import re\n",
    "import matplotlib.pyplot as plt\n",
    "\n",
    "# Download NLTK data (run once)\n",
    "nltk.download('punkt', download_dir='~/nltk_data')  # Tokenizers\n",
    "nltk.download('stopwords', download_dir='~/nltk_data')  # Stopwords\n",
    "nltk.download('punkt_tab', download_dir='~/nltk_data')  # Language-specific Punkt data\n",
    "nltk.data.path.append('~/nltk_data')  # Add custom path (Mac/Linux, adjust for Windows if needed)\n",
    "\n",
    "# Verify the path\n",
    "print(\"NLTK Data Path:\", nltk.data.path)"
   ]
  },
  {
   "cell_type": "code",
   "execution_count": 24,
   "metadata": {},
   "outputs": [],
   "source": [
    "# Cell 2: Data Loading Function (Copied from notebook.ipynb)\n",
    "def load_data(path, label):\n",
    "    reviews = []\n",
    "    for filename in os.listdir(path):\n",
    "        with open(os.path.join(path, filename), 'r', encoding='utf-8') as f:\n",
    "            reviews.append(f.read())\n",
    "    return pd.DataFrame({'review': reviews, 'label': label})"
   ]
  },
  {
   "cell_type": "code",
   "execution_count": 25,
   "metadata": {},
   "outputs": [],
   "source": [
    "# Cell 3: Load Training Data\n",
    "train_pos_path = '../data/raw/aclImdb/train/pos'\n",
    "train_neg_path = '../data/raw/aclImdb/train/neg'\n",
    "train_pos = load_data(train_pos_path, 'positive')\n",
    "train_neg = load_data(train_neg_path, 'negative')\n",
    "train_data = pd.concat([train_pos, train_neg], ignore_index=True)"
   ]
  },
  {
   "cell_type": "code",
   "execution_count": 26,
   "metadata": {},
   "outputs": [
    {
     "name": "stdout",
     "output_type": "stream",
     "text": [
      "Sample positive review:\n",
      " For a movie that gets no respect there sure are a lot of memorable quotes listed for this gem. Imagine a movie where Joe Piscopo is actually funny! Maureen Stapleton is a scene stealer. The Moroni character is an absolute scream. Watch for Alan \"The Skipper\" Hale jr. as a police Sgt.\n",
      "\n",
      "Sample negative review:\n",
      " Working with one of the best Shakespeare sources, this film manages to be creditable to it's source, whilst still appealing to a wider audience.<br /><br />Branagh steals the film from under Fishburne's nose, and there's a talented cast on good form.\n",
      "\n",
      "Average review length: 233.7872\n"
     ]
    },
    {
     "data": {
      "image/png": "[encoded data removed]",
      "text/plain": [
       "<Figure size 640x480 with 1 Axes>"
      ]
     },
     "metadata": {},
     "output_type": "display_data"
    }
   ],
   "source": [
    "# Cell 4: Quick EDA\n",
    "print(\"Sample positive review:\\n\", train_data[train_data['label'] == 'positive']['review'].iloc[0])\n",
    "print(\"\\nSample negative review:\\n\", train_data[train_data['label'] == 'negative']['review'].iloc[0])\n",
    "train_data['review_length'] = train_data['review'].apply(lambda x: len(x.split()))\n",
    "print(\"\\nAverage review length:\", train_data['review_length'].mean())\n",
    "train_data['label'].value_counts().plot(kind='bar', title='Label Distribution')\n",
    "plt.xlabel('Label')\n",
    "plt.ylabel('Count')\n",
    "plt.savefig('../output/figures/label_distribution.png')\n",
    "plt.show()"
   ]
  },
  {
   "cell_type": "code",
   "execution_count": 29,
   "metadata": {},
   "outputs": [],
   "source": [
    "# Cell 5: Preprocessing Function (with error handling)\n",
    "stop_words = set(stopwords.words('english'))\n",
    "\n",
    "def preprocess_text(text):\n",
    "    if not isinstance(text, str):\n",
    "        return \"\"\n",
    "    try:\n",
    "        text = re.sub(r'<[^>]+>', '', text)\n",
    "        text = re.sub(r'[^\\w\\s]', '', text)\n",
    "        tokens = word_tokenize(text.lower())\n",
    "        tokens = [word for word in tokens if word not in stop_words and word]\n",
    "        return ' '.join(tokens)\n",
    "    except Exception as e:\n",
    "        print(f\"Error preprocessing text: {e}\")\n",
    "        return \"\""
   ]
  },
  {
   "cell_type": "code",
   "execution_count": 30,
   "metadata": {},
   "outputs": [],
   "source": [
    "# Cell 6: Apply Preprocessing\n",
    "train_data['clean_review'] = train_data['review'].apply(preprocess_text)"
   ]
  },
  {
   "cell_type": "code",
   "execution_count": 32,
   "metadata": {},
   "outputs": [
    {
     "name": "stdout",
     "output_type": "stream",
     "text": [
      "Original vs. Cleaned Reviews:\n",
      "                                              review  \\\n",
      "0  For a movie that gets no respect there sure ar...   \n",
      "1  Bizarre horror movie filled with famous faces ...   \n",
      "2  A solid, if unremarkable film. Matthau, as Ein...   \n",
      "3  It's a strange feeling to sit alone in a theat...   \n",
      "4  You probably all already know this by now, but...   \n",
      "\n",
      "                                        clean_review  \n",
      "0  movie gets respect sure lot memorable quotes l...  \n",
      "1  bizarre horror movie filled famous faces stole...  \n",
      "2  solid unremarkable film matthau einstein wonde...  \n",
      "3  strange feeling sit alone theater occupied par...  \n",
      "4  probably already know 5 additional episodes ne...  \n",
      "\n",
      "Average cleaned review length: 121.16\n"
     ]
    }
   ],
   "source": [
    "# Cell 7: Verify Preprocessed Data\n",
    "print(\"Original vs. Cleaned Reviews:\")\n",
    "print(train_data[['review', 'clean_review']].head())\n",
    "train_data['clean_length'] = train_data['clean_review'].apply(lambda x: len(x.split()))\n",
    "print(\"\\nAverage cleaned review length:\", train_data['clean_length'].mean())"
   ]
  }
 ],
 "metadata": {
  "kernelspec": {
   "display_name": "Python 3",
   "language": "python",
   "name": "python3"
  },
  "language_info": {
   "codemirror_mode": {
    "name": "ipython",
    "version": 3
   },
   "file_extension": ".py",
   "mimetype": "text/x-python",
   "name": "python",
   "nbconvert_exporter": "python",
   "pygments_lexer": "ipython3",
   "version": "3.13.0"
  }
 },
 "nbformat": 4,
 "nbformat_minor": 2
}
