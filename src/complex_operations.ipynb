{
 "cells": [
  {
   "cell_type": "code",
   "execution_count": 15,
   "metadata": {},
   "outputs": [
    {
     "name": "stderr",
     "output_type": "stream",
     "text": [
      "[nltk_data] Downloading package punkt to\n",
      "[nltk_data]     /Users/rashidkarimov/nltk_data...\n",
      "[nltk_data]   Package punkt is already up-to-date!\n",
      "[nltk_data] Downloading package stopwords to\n",
      "[nltk_data]     /Users/rashidkarimov/nltk_data...\n",
      "[nltk_data]   Package stopwords is already up-to-date!\n",
      "[nltk_data] Downloading package punkt_tab to ~/nltk_data...\n",
      "[nltk_data]   Package punkt_tab is already up-to-date!\n"
     ]
    }
   ],
   "source": [
    "# Cell 1: Imports\n",
    "import pandas as pd\n",
    "import numpy as np\n",
    "import nltk\n",
    "from nltk.corpus import stopwords\n",
    "from nltk.tokenize import word_tokenize\n",
    "import re\n",
    "from sklearn.feature_extraction.text import TfidfVectorizer\n",
    "from sklearn.model_selection import train_test_split, cross_val_score\n",
    "from sklearn.ensemble import RandomForestClassifier, GradientBoostingClassifier, VotingClassifier\n",
    "from sklearn.metrics import accuracy_score, classification_report, confusion_matrix, ConfusionMatrixDisplay\n",
    "from textblob import TextBlob\n",
    "import matplotlib.pyplot as plt\n",
    "\n",
    "import os\n",
    "def load_data(path, label):\n",
    "    reviews = []\n",
    "    for filename in os.listdir(path):\n",
    "        with open(os.path.join(path, filename), 'r', encoding='utf-8') as f:\n",
    "            reviews.append(f.read())\n",
    "    return pd.DataFrame({'review': reviews, 'label': label})\n",
    "\n",
    "train_pos_path = '../data/raw/aclImdb/train/pos'\n",
    "train_neg_path = '../data/raw/aclImdb/train/neg'\n",
    "train_pos = load_data(train_pos_path, 'positive')\n",
    "train_neg = load_data(train_neg_path, 'negative')\n",
    "train_data = pd.concat([train_pos, train_neg], ignore_index=True)\n",
    "\n",
    "nltk.download('punkt')\n",
    "nltk.download('stopwords')\n",
    "nltk.download('punkt_tab', download_dir='~/nltk_data')\n",
    "nltk.data.path.append('~/nltk_data')\n",
    "\n",
    "stop_words = set(stopwords.words('english'))\n",
    "\n",
    "def preprocess_text(text):\n",
    "    if not isinstance(text, str):\n",
    "        return \"\"\n",
    "    try:\n",
    "        text = re.sub(r'<[^>]+>', '', text)\n",
    "        text = re.sub(r'[^\\w\\s]', '', text)\n",
    "        tokens = word_tokenize(text.lower())\n",
    "        tokens = [word for word in tokens if word not in stop_words and word]\n",
    "        return ' '.join(tokens)\n",
    "    except Exception as e:\n",
    "        print(f\"Error preprocessing text: {e}\")\n",
    "        return \"\"\n",
    "\n",
    "train_data['clean_review'] = train_data['review'].apply(preprocess_text)\n",
    "y = train_data['label'].map({'positive': 1, 'negative': 0})"
   ]
  },
  {
   "cell_type": "code",
   "execution_count": 16,
   "metadata": {},
   "outputs": [
    {
     "name": "stderr",
     "output_type": "stream",
     "text": [
      "[nltk_data] Downloading package punkt to\n",
      "[nltk_data]     /Users/rashidkarimov/nltk_data...\n",
      "[nltk_data]   Package punkt is already up-to-date!\n",
      "[nltk_data] Downloading package stopwords to\n",
      "[nltk_data]     /Users/rashidkarimov/nltk_data...\n",
      "[nltk_data]   Package stopwords is already up-to-date!\n",
      "[nltk_data] Downloading package punkt_tab to ~/nltk_data...\n",
      "[nltk_data]   Package punkt_tab is already up-to-date!\n"
     ]
    }
   ],
   "source": [
    "# Cell 2: Load and Preprocess Data (Updated)\n",
    "import os\n",
    "def load_data(path, label):\n",
    "    reviews = []\n",
    "    for filename in os.listdir(path):\n",
    "        with open(os.path.join(path, filename), 'r', encoding='utf-8') as f:\n",
    "            reviews.append(f.read())\n",
    "    return pd.DataFrame({'review': reviews, 'label': label})\n",
    "\n",
    "train_pos_path = '../data/raw/aclImdb/train/pos'\n",
    "train_neg_path = '../data/raw/aclImdb/train/neg'\n",
    "train_pos = load_data(train_pos_path, 'positive')\n",
    "train_neg = load_data(train_neg_path, 'negative')\n",
    "train_data = pd.concat([train_pos, train_neg], ignore_index=True)\n",
    "\n",
    "# Sample the dataset to 5,000 reviews for efficiency and reset index\n",
    "train_data = train_data.sample(5000, random_state=42).reset_index(drop=True)\n",
    "\n",
    "nltk.download('punkt')\n",
    "nltk.download('stopwords')\n",
    "nltk.download('punkt_tab', download_dir='~/nltk_data')\n",
    "nltk.data.path.append('~/nltk_data')\n",
    "\n",
    "stop_words = set(stopwords.words('english'))\n",
    "\n",
    "def preprocess_text(text):\n",
    "    if not isinstance(text, str):\n",
    "        return \"\"\n",
    "    try:\n",
    "        text = re.sub(r'<[^>]+>', '', text)\n",
    "        text = re.sub(r'[^\\w\\s]', '', text)\n",
    "        tokens = word_tokenize(text.lower())\n",
    "        tokens = [word for word in tokens if word not in stop_words and word]\n",
    "        return ' '.join(tokens)\n",
    "    except Exception as e:\n",
    "        print(f\"Error preprocessing text: {e}\")\n",
    "        return \"\"\n",
    "\n",
    "train_data['clean_review'] = train_data['review'].apply(preprocess_text)\n",
    "y = train_data['label'].map({'positive': 1, 'negative': 0})"
   ]
  },
  {
   "cell_type": "code",
   "execution_count": 17,
   "metadata": {},
   "outputs": [
    {
     "name": "stdout",
     "output_type": "stream",
     "text": [
      "Combined feature matrix shape: (5000, 3002)\n"
     ]
    }
   ],
   "source": [
    "# Cell 3: Engineer Additional Features\n",
    "vectorizer = TfidfVectorizer(max_features=3000)  # Reduced from 5000 for speed\n",
    "X_text = vectorizer.fit_transform(train_data['clean_review'])\n",
    "\n",
    "# Add review length and sentiment score as features\n",
    "train_data['review_length'] = train_data['clean_review'].apply(lambda x: len(x.split()))\n",
    "train_data['sentiment_score'] = train_data['clean_review'].apply(lambda x: TextBlob(x).sentiment.polarity)\n",
    "\n",
    "X_metadata = np.array(train_data[['review_length', 'sentiment_score']])\n",
    "X = np.hstack((X_text.toarray(), X_metadata))  # Concatenate horizontally\n",
    "print(\"Combined feature matrix shape:\", X.shape)"
   ]
  },
  {
   "cell_type": "code",
   "execution_count": 18,
   "metadata": {},
   "outputs": [],
   "source": [
    "# Cell 4: Build Ensemble Model\n",
    "X_train, X_val, y_train, y_val = train_test_split(X, y, test_size=0.2, random_state=42)\n",
    "\n",
    "# Reduced complexity for faster execution\n",
    "rf_model = RandomForestClassifier(n_estimators=50, random_state=42)  # Reduced from 100\n",
    "gb_model = GradientBoostingClassifier(n_estimators=50, random_state=42)  # Reduced from 100\n",
    "\n",
    "ensemble = VotingClassifier(estimators=[('rf', rf_model), ('gb', gb_model)], voting='soft')\n",
    "ensemble.fit(X_train, y_train)\n",
    "y_pred_ensemble = ensemble.predict(X_val)"
   ]
  },
  {
   "cell_type": "code",
   "execution_count": 19,
   "metadata": {},
   "outputs": [
    {
     "name": "stdout",
     "output_type": "stream",
     "text": [
      "Ensemble Validation Accuracy: 0.814\n",
      "\n",
      "Ensemble Classification Report:\n",
      "              precision    recall  f1-score   support\n",
      "\n",
      "    negative       0.81      0.81      0.81       484\n",
      "    positive       0.82      0.82      0.82       516\n",
      "\n",
      "    accuracy                           0.81      1000\n",
      "   macro avg       0.81      0.81      0.81      1000\n",
      "weighted avg       0.81      0.81      0.81      1000\n",
      "\n",
      "\n",
      "Cross-Validation Scores: [0.79664067 0.81643671 0.81332533]\n",
      "Mean CV Accuracy: 0.8088009048850494 ± 0.00869189759181332\n"
     ]
    },
    {
     "data": {
      "image/png": "[encoded data removed]",
      "text/plain": [
       "<Figure size 640x480 with 2 Axes>"
      ]
     },
     "metadata": {},
     "output_type": "display_data"
    }
   ],
   "source": [
    "# Cell 5: Evaluate and Cross-Validate Ensemble\n",
    "# Evaluate ensemble\n",
    "ensemble_accuracy = accuracy_score(y_val, y_pred_ensemble)\n",
    "print(\"Ensemble Validation Accuracy:\", ensemble_accuracy)\n",
    "\n",
    "print(\"\\nEnsemble Classification Report:\")\n",
    "print(classification_report(y_val, y_pred_ensemble, target_names=['negative', 'positive']))\n",
    "\n",
    "# Use 3-fold cross-validation for faster execution\n",
    "cv_scores = cross_val_score(ensemble, X, y, cv=3, scoring='accuracy')\n",
    "print(\"\\nCross-Validation Scores:\", cv_scores)\n",
    "print(\"Mean CV Accuracy:\", cv_scores.mean(), \"±\", cv_scores.std())\n",
    "\n",
    "# Confusion Matrix\n",
    "cm_ensemble = confusion_matrix(y_val, y_pred_ensemble)\n",
    "disp = ConfusionMatrixDisplay(confusion_matrix=cm_ensemble, display_labels=['negative', 'positive'])\n",
    "disp.plot(cmap='Blues')\n",
    "plt.title('Confusion Matrix for Ensemble Model')\n",
    "plt.savefig('../output/figures/confusion_matrix_ensemble.png')\n",
    "plt.show()"
   ]
  },
  {
   "cell_type": "code",
   "execution_count": 20,
   "metadata": {},
   "outputs": [
    {
     "name": "stdout",
     "output_type": "stream",
     "text": [
      "\n",
      "Sample Misclassified Reviews (Ensemble):\n",
      "\n",
      "Review: enjoyed jean arthur devil miss jones interest peaked tried sitting secondstring screwball outing investigation death jockeybut didnt make end arthur photographed gauzy moviemagazine fashion either wan...\n",
      "True Label: negative\n",
      "Predicted Label: positive\n",
      "Review Length: 79\n",
      "Sentiment Score: 0.16\n",
      "\n",
      "Review: marquis de sade egyptian archaeology mermaid worshipping cults tobe hooper tries answer question one weird little filmgenie young cutie visits nerdy archaeology father alexandria egypt genie gets caug...\n",
      "True Label: positive\n",
      "Predicted Label: negative\n",
      "Review Length: 218\n",
      "Sentiment Score: 0.08\n",
      "\n",
      "Review: jackie chans best film personal favourite disappointing us made protector directed james glickenhaus jackie took concept placed slap bang hong kong also probably jackies violent movie audience cringin...\n",
      "True Label: positive\n",
      "Predicted Label: negative\n",
      "Review Length: 88\n",
      "Sentiment Score: -0.01\n",
      "\n",
      "Review: movie represents times made much original suppose really sad deeper level title vanishing point original ironic im sure wasnt intended way original filmed 1970 released 1971 real vanishing point end e...\n",
      "True Label: negative\n",
      "Predicted Label: positive\n",
      "Review Length: 75\n",
      "Sentiment Score: 0.15\n",
      "\n",
      "Review: actors filmmakers certainly couldnt audience among airpuffed productions existence kind movie looks like lot fun shoot much fun nobody getting actual work done almost always makes movie thats fun watc...\n",
      "True Label: negative\n",
      "Predicted Label: positive\n",
      "Review Length: 244\n",
      "Sentiment Score: 0.15\n",
      "\n",
      "Top 10 Most Important Features (Random Forest):\n",
      "minutes: 0.0053\n",
      "poor: 0.0057\n",
      "best: 0.0061\n",
      "waste: 0.0070\n",
      "awful: 0.0070\n",
      "terrible: 0.0084\n",
      "great: 0.0126\n",
      "bad: 0.0135\n",
      "worst: 0.0174\n",
      "sentiment_score: 0.0819\n"
     ]
    }
   ],
   "source": [
    "# Cell 6: Perform Detailed Error and Feature Analysis\n",
    "# Identify misclassified reviews\n",
    "val_data = train_data.iloc[y_val.index].copy()\n",
    "val_data['predicted_ensemble'] = y_pred_ensemble\n",
    "\n",
    "misclassified_ensemble = val_data[val_data['label'].map({'positive': 1, 'negative': 0}) != y_pred_ensemble]\n",
    "\n",
    "print(\"\\nSample Misclassified Reviews (Ensemble):\")\n",
    "for _, row in misclassified_ensemble.head(5).iterrows():\n",
    "    print(f\"\\nReview: {row['clean_review'][:200]}...\")\n",
    "    print(f\"True Label: {row['label']}\")\n",
    "    print(f\"Predicted Label: {'positive' if row['predicted_ensemble'] == 1 else 'negative'}\")\n",
    "    print(f\"Review Length: {row['review_length']}\")\n",
    "    print(f\"Sentiment Score: {row['sentiment_score']:.2f}\")\n",
    "\n",
    "# Feature importance from Random Forest (approximate for TF-IDF + metadata)\n",
    "rf_feature_importance = rf_model.fit(X_train, y_train).feature_importances_\n",
    "feature_names = list(vectorizer.get_feature_names_out()) + ['review_length', 'sentiment_score']\n",
    "top_features = np.argsort(rf_feature_importance)[-10:]  # Top 10 features\n",
    "print(\"\\nTop 10 Most Important Features (Random Forest):\")\n",
    "for idx in top_features:\n",
    "    print(f\"{feature_names[idx]}: {rf_feature_importance[idx]:.4f}\")"
   ]
  }
 ],
 "metadata": {
  "kernelspec": {
   "display_name": "tf_env",
   "language": "python",
   "name": "python3"
  },
  "language_info": {
   "codemirror_mode": {
    "name": "ipython",
    "version": 3
   },
   "file_extension": ".py",
   "mimetype": "text/x-python",
   "name": "python",
   "nbconvert_exporter": "python",
   "pygments_lexer": "ipython3",
   "version": "3.11.11"
  }
 },
 "nbformat": 4,
 "nbformat_minor": 2
}
